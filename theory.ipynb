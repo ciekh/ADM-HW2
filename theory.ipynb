{
 "cells": [
  {
   "cell_type": "markdown",
   "metadata": {},
   "source": [
    "**Theoretical question**\n",
    "\n",
    "- function splitSwap(a, l, n):\n",
    "-  if n <= 1:\n",
    "-    return\n",
    "-  splitSwap(a, l, n/2)\n",
    "-  splitSwap(a, l+ n /2, n/2)\n",
    "-  swapList(a, l, n)"
   ]
  },
  {
   "cell_type": "markdown",
   "metadata": {},
   "source": [
    "The subroutine swapList is described here:\n",
    "\n",
    "- function swapList(a, l, n):\n",
    "-  for i = 1 to n/2:\n",
    "-    tmp = a[l + i]\n",
    "-    a[l + i] = a[l + n/2 + i]\n",
    "-    a[l + n/2 + i] = tmp"
   ]
  },
  {
   "cell_type": "markdown",
   "metadata": {},
   "source": [
    "Lets describe it partially:\n",
    "- as we can see the function swapList has the n/2 hard but actually we need to forget about the constant so O(n) hard\n",
    "Now lets see whats is going on with the splitSwap function:\n",
    "- the splitSwap(a, l, n/2)  will repeate till the moment to get to the first item in the list\n",
    "- the fucntion splitSwap devides the list up to single items \n",
    "- the function splitSwap(a, l, n/2) works with the left part of list\n",
    "- the function splitSwap(a, l+ n /2, n/2)works with the right part of the list\n",
    "- then the function swaplist change the order of the element up to get reversed list \n",
    "- as we can see the function splitswap have been called 2 times and has the n/2 hard time \n",
    "$$2T(n/2) + O(n)$$\n",
    "- where 2 is two cals of recursive function \n",
    "- T(n/2) is the hard of the recursive function \n",
    "- O(n) is a hard of swapList function\n",
    "\n",
    "**As we will follow the second part of the master theorem ( which we can use because master theorem applies to the devide-and-conquer alghorithms ) our algorithm has $$O(n*log(n))$$\n",
    "hard**"
   ]
  },
  {
   "cell_type": "markdown",
   "metadata": {},
   "source": [
    "But that is not the most efficient way\n",
    "we can show more efficient way which has just O(n) hard"
   ]
  },
  {
   "cell_type": "code",
   "execution_count": 1,
   "metadata": {},
   "outputs": [
    {
     "data": {
      "text/plain": [
       "[8, 9, 16, 4, 8, 2]"
      ]
     },
     "execution_count": 1,
     "metadata": {},
     "output_type": "execute_result"
    }
   ],
   "source": [
    "a = [2,8,4,16,9,8]\n",
    "l = 0\n",
    "n = len(a)\n",
    "def swapList(a, l, n):\n",
    "    for i in range(n//2):\n",
    "        tmp = a[i]\n",
    "        a[i] = a[n-1-l]\n",
    "        a[n-1-l] = tmp\n",
    "        l += 1\n",
    "    return a\n",
    "swapList([2,8,4,16,9,8], 0, len(a))"
   ]
  },
  {
   "cell_type": "code",
   "execution_count": null,
   "metadata": {},
   "outputs": [],
   "source": []
  },
  {
   "cell_type": "code",
   "execution_count": null,
   "metadata": {},
   "outputs": [],
   "source": []
  },
  {
   "cell_type": "code",
   "execution_count": null,
   "metadata": {},
   "outputs": [],
   "source": []
  }
 ],
 "metadata": {
  "kernelspec": {
   "display_name": "Python 3",
   "language": "python",
   "name": "python3"
  },
  "language_info": {
   "codemirror_mode": {
    "name": "ipython",
    "version": 3
   },
   "file_extension": ".py",
   "mimetype": "text/x-python",
   "name": "python",
   "nbconvert_exporter": "python",
   "pygments_lexer": "ipython3",
   "version": "3.7.3"
  }
 },
 "nbformat": 4,
 "nbformat_minor": 2
}
